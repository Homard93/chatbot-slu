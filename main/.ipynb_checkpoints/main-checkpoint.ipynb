{
 "cells": [
  {
   "cell_type": "code",
   "execution_count": 19,
   "metadata": {
    "scrolled": false
   },
   "outputs": [],
   "source": [
    "from flask import Flask, render_template, request\n",
    "import spacy\n",
    "#from chatbot import chatbot\n",
    "import os\n",
    "\n",
    "from chatterbot import ChatBot\n",
    "from chatterbot.trainers import ListTrainer\n",
    "from chatterbot.trainers import ChatterBotCorpusTrainer\n",
    "import os"
   ]
  },
  {
   "cell_type": "code",
   "execution_count": 20,
   "metadata": {
    "scrolled": false
   },
   "outputs": [],
   "source": [
    "# Creating ChatBot Instancep\n",
    "\n",
    "chatbot = ChatBot(\n",
    "    'Chatty',\n",
    "    storage_adapter='chatterbot.storage.SQLStorageAdapter',\n",
    "    logic_adapters=[\n",
    "        'chatterbot.logic.BestMatch',\n",
    "        {\n",
    "        'import_path': 'chatterbot.logic.BestMatch',\n",
    "        'default_response': 'I am sorry, but I do not understand. I am still learning.',\n",
    "        'maximum_similarity_threshold': 0.90\n",
    "        }\n",
    "    ],\n",
    "    database_uri='sqlite:///database.sqlite3'\n",
    ") "
   ]
  },
  {
   "cell_type": "code",
   "execution_count": 21,
   "metadata": {},
   "outputs": [
    {
     "name": "stdout",
     "output_type": "stream",
     "text": [
      "List Trainer: [####################] 100%\n"
     ]
    }
   ],
   "source": [
    "# Training with Personal Ques & Ans \n",
    "training_data_quesans = open('../training_data/enrollment.txt').read().splitlines()\n",
    "training_data_personal = open('../training_data/simple.txt').read().splitlines()\n",
    "# training_data_conv = open('../training_data/more.txt').read().splitlines()\n",
    "\n",
    "training_data = training_data_quesans + training_data_personal + training_data_conv\n",
    "\n",
    "trainer = ListTrainer(chatbot)\n",
    "trainer.train(training_data) \n",
    "# Training with English Corpus Data \n",
    "trainer_corpus = ChatterBotCorpusTrainer(chatbot)"
   ]
  },
  {
   "cell_type": "code",
   "execution_count": 22,
   "metadata": {},
   "outputs": [],
   "source": [
    "app = Flask(__name__)\n",
    "app.static_folder = 'static'\n"
   ]
  },
  {
   "cell_type": "code",
   "execution_count": 23,
   "metadata": {},
   "outputs": [],
   "source": [
    "@app.route(\"/\")\n",
    "def home():\n",
    "    return render_template(\"index.html\")\n",
    "    \n",
    "@app.route(\"/get\")\n",
    "def get_bot_response():\n",
    "    userText = request.args.get('msg')\n",
    "    return str(chatbot.get_response(userText))"
   ]
  },
  {
   "cell_type": "code",
   "execution_count": null,
   "metadata": {},
   "outputs": [
    {
     "name": "stdout",
     "output_type": "stream",
     "text": [
      " * Serving Flask app '__main__' (lazy loading)\n",
      " * Environment: production\n",
      "   WARNING: This is a development server. Do not use it in a production deployment.\n",
      "   Use a production WSGI server instead.\n",
      " * Debug mode: off\n"
     ]
    },
    {
     "name": "stderr",
     "output_type": "stream",
     "text": [
      " * Running on http://127.0.0.1:5000/ (Press CTRL+C to quit)\n",
      "127.0.0.1 - - [08/Jul/2021 17:10:32] \"GET / HTTP/1.1\" 200 -\n",
      "127.0.0.1 - - [08/Jul/2021 17:10:32] \"GET /static/styles/style.css HTTP/1.1\" 200 -\n",
      "127.0.0.1 - - [08/Jul/2021 17:10:34] \"GET / HTTP/1.1\" 200 -\n",
      "127.0.0.1 - - [08/Jul/2021 17:10:40] \"GET /get?msg=hi HTTP/1.1\" 200 -\n",
      "127.0.0.1 - - [08/Jul/2021 17:10:46] \"GET /get?msg=how%20are%20you%3F HTTP/1.1\" 200 -\n",
      "127.0.0.1 - - [08/Jul/2021 17:10:55] \"GET /get?msg=what%20is%20rape%20and%20dowry HTTP/1.1\" 200 -\n",
      "127.0.0.1 - - [08/Jul/2021 17:10:59] \"GET /get?msg=what%20is%20rape HTTP/1.1\" 200 -\n",
      "Exception during reset or similar\n",
      "Traceback (most recent call last):\n",
      "  File \"F:\\Files\\anaconda3\\envs\\chatterbot_example\\lib\\site-packages\\sqlalchemy\\pool\\base.py\", line 697, in _finalize_fairy\n",
      "    fairy._reset(pool)\n",
      "  File \"F:\\Files\\anaconda3\\envs\\chatterbot_example\\lib\\site-packages\\sqlalchemy\\pool\\base.py\", line 893, in _reset\n",
      "    pool._dialect.do_rollback(self)\n",
      "  File \"F:\\Files\\anaconda3\\envs\\chatterbot_example\\lib\\site-packages\\sqlalchemy\\engine\\default.py\", line 558, in do_rollback\n",
      "    dbapi_connection.rollback()\n",
      "sqlite3.ProgrammingError: SQLite objects created in a thread can only be used in that same thread. The object was created in thread id 9364 and this is thread id 12240.\n",
      "Exception closing connection <sqlite3.Connection object at 0x00000205C61E2650>\n",
      "Traceback (most recent call last):\n",
      "  File \"F:\\Files\\anaconda3\\envs\\chatterbot_example\\lib\\site-packages\\sqlalchemy\\pool\\base.py\", line 697, in _finalize_fairy\n",
      "    fairy._reset(pool)\n",
      "  File \"F:\\Files\\anaconda3\\envs\\chatterbot_example\\lib\\site-packages\\sqlalchemy\\pool\\base.py\", line 893, in _reset\n",
      "    pool._dialect.do_rollback(self)\n",
      "  File \"F:\\Files\\anaconda3\\envs\\chatterbot_example\\lib\\site-packages\\sqlalchemy\\engine\\default.py\", line 558, in do_rollback\n",
      "    dbapi_connection.rollback()\n",
      "sqlite3.ProgrammingError: SQLite objects created in a thread can only be used in that same thread. The object was created in thread id 9364 and this is thread id 12240.\n",
      "\n",
      "During handling of the above exception, another exception occurred:\n",
      "\n",
      "Traceback (most recent call last):\n",
      "  File \"F:\\Files\\anaconda3\\envs\\chatterbot_example\\lib\\site-packages\\sqlalchemy\\pool\\base.py\", line 270, in _close_connection\n",
      "    self._dialect.do_close(connection)\n",
      "  File \"F:\\Files\\anaconda3\\envs\\chatterbot_example\\lib\\site-packages\\sqlalchemy\\engine\\default.py\", line 564, in do_close\n",
      "    dbapi_connection.close()\n",
      "sqlite3.ProgrammingError: SQLite objects created in a thread can only be used in that same thread. The object was created in thread id 9364 and this is thread id 12240.\n",
      "Exception during reset or similar\n",
      "Traceback (most recent call last):\n",
      "  File \"F:\\Files\\anaconda3\\envs\\chatterbot_example\\lib\\site-packages\\sqlalchemy\\pool\\base.py\", line 697, in _finalize_fairy\n",
      "    fairy._reset(pool)\n",
      "  File \"F:\\Files\\anaconda3\\envs\\chatterbot_example\\lib\\site-packages\\sqlalchemy\\pool\\base.py\", line 893, in _reset\n",
      "    pool._dialect.do_rollback(self)\n",
      "  File \"F:\\Files\\anaconda3\\envs\\chatterbot_example\\lib\\site-packages\\sqlalchemy\\engine\\default.py\", line 558, in do_rollback\n",
      "    dbapi_connection.rollback()\n",
      "sqlite3.ProgrammingError: SQLite objects created in a thread can only be used in that same thread. The object was created in thread id 9364 and this is thread id 12240.\n",
      "Exception closing connection <sqlite3.Connection object at 0x00000205C61EE570>\n",
      "Traceback (most recent call last):\n",
      "  File \"F:\\Files\\anaconda3\\envs\\chatterbot_example\\lib\\site-packages\\sqlalchemy\\pool\\base.py\", line 697, in _finalize_fairy\n",
      "    fairy._reset(pool)\n",
      "  File \"F:\\Files\\anaconda3\\envs\\chatterbot_example\\lib\\site-packages\\sqlalchemy\\pool\\base.py\", line 893, in _reset\n",
      "    pool._dialect.do_rollback(self)\n",
      "  File \"F:\\Files\\anaconda3\\envs\\chatterbot_example\\lib\\site-packages\\sqlalchemy\\engine\\default.py\", line 558, in do_rollback\n",
      "    dbapi_connection.rollback()\n",
      "sqlite3.ProgrammingError: SQLite objects created in a thread can only be used in that same thread. The object was created in thread id 9364 and this is thread id 12240.\n",
      "\n",
      "During handling of the above exception, another exception occurred:\n",
      "\n",
      "Traceback (most recent call last):\n",
      "  File \"F:\\Files\\anaconda3\\envs\\chatterbot_example\\lib\\site-packages\\sqlalchemy\\pool\\base.py\", line 270, in _close_connection\n",
      "    self._dialect.do_close(connection)\n",
      "  File \"F:\\Files\\anaconda3\\envs\\chatterbot_example\\lib\\site-packages\\sqlalchemy\\engine\\default.py\", line 564, in do_close\n",
      "    dbapi_connection.close()\n",
      "sqlite3.ProgrammingError: SQLite objects created in a thread can only be used in that same thread. The object was created in thread id 9364 and this is thread id 12240.\n",
      "127.0.0.1 - - [08/Jul/2021 17:11:05] \"GET /get?msg=and%20dowry HTTP/1.1\" 200 -\n",
      "127.0.0.1 - - [08/Jul/2021 17:11:13] \"GET /get?msg=dowry HTTP/1.1\" 200 -\n",
      "127.0.0.1 - - [08/Jul/2021 17:11:52] \"GET /get?msg=voilence HTTP/1.1\" 200 -\n",
      "127.0.0.1 - - [08/Jul/2021 19:56:22] \"GET /get?msg=bye HTTP/1.1\" 200 -\n",
      "127.0.0.1 - - [08/Jul/2021 19:58:31] \"GET /get?msg=bye HTTP/1.1\" 200 -\n"
     ]
    }
   ],
   "source": [
    "if __name__ == '__main__':\n",
    "    app.run()"
   ]
  },
  {
   "cell_type": "code",
   "execution_count": null,
   "metadata": {},
   "outputs": [],
   "source": []
  }
 ],
 "metadata": {
  "kernelspec": {
   "display_name": "Python 3",
   "language": "python",
   "name": "python3"
  },
  "language_info": {
   "codemirror_mode": {
    "name": "ipython",
    "version": 3
   },
   "file_extension": ".py",
   "mimetype": "text/x-python",
   "name": "python",
   "nbconvert_exporter": "python",
   "pygments_lexer": "ipython3",
   "version": "3.7.10"
  }
 },
 "nbformat": 4,
 "nbformat_minor": 4
}
